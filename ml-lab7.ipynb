{
 "cells": [
  {
   "cell_type": "code",
   "execution_count": 1,
   "id": "4eb13c1b",
   "metadata": {},
   "outputs": [],
   "source": [
    "import pandas as pd\n",
    "import numpy as np\n",
    "import string\n",
    "import re"
   ]
  },
  {
   "cell_type": "code",
   "execution_count": 2,
   "id": "e044a4b3",
   "metadata": {},
   "outputs": [],
   "source": [
    "from sklearn.model_selection import train_test_split\n",
    "from sklearn.feature_extraction.text import CountVectorizer, TfidfVectorizer\n",
    "from sklearn.naive_bayes import BernoulliNB, MultinomialNB\n",
    "from sklearn.metrics import accuracy_score, precision_score, recall_score, f1_score, classification_report\n"
   ]
  },
  {
   "cell_type": "code",
   "execution_count": 5,
   "id": "21365271",
   "metadata": {},
   "outputs": [],
   "source": [
    "df = pd.read_excel(\"smsspamcollection.xlsx\")"
   ]
  },
  {
   "cell_type": "code",
   "execution_count": 7,
   "id": "5334e712",
   "metadata": {},
   "outputs": [],
   "source": [
    "df.columns = ['label', 'message']"
   ]
  },
  {
   "cell_type": "code",
   "execution_count": 8,
   "id": "885ce209",
   "metadata": {},
   "outputs": [
    {
     "name": "stdout",
     "output_type": "stream",
     "text": [
      "Dataset shape: (5571, 2)\n",
      "  label                                            message\n",
      "0   ham                      Ok lar... Joking wif u oni...\n",
      "1  spam  Free entry in 2 a wkly comp to win FA Cup fina...\n",
      "2   ham  U dun say so early hor... U c already then say...\n",
      "3   ham  Nah I don't think he goes to usf, he lives aro...\n",
      "4  spam  FreeMsg Hey there darling it's been 3 week's n...\n"
     ]
    }
   ],
   "source": [
    "print(\"Dataset shape:\", df.shape)\n",
    "print(df.head())"
   ]
  },
  {
   "cell_type": "code",
   "execution_count": 9,
   "id": "767b3fb8",
   "metadata": {},
   "outputs": [],
   "source": [
    "df['label'] = df['label'].map({'ham': 0, 'spam': 1})"
   ]
  },
  {
   "cell_type": "code",
   "execution_count": null,
   "id": "fb01b719",
   "metadata": {},
   "outputs": [],
   "source": [
    "# Preprocess text: lowercase, remove numbers & punctuation\n",
    "def preprocess_text(text):\n",
    "    text = text.lower()\n",
    "    text = re.sub(r'\\d+', '', text)  \n",
    "    text = text.translate(str.maketrans('', '', string.punctuation)) \n",
    "    return text.strip()\n",
    "\n",
    "# Ensure all entries are strings\n",
    "df['message'] = df['message'].astype(str).apply(preprocess_text)\n"
   ]
  },
  {
   "cell_type": "code",
   "execution_count": 12,
   "id": "6ee2460e",
   "metadata": {},
   "outputs": [],
   "source": [
    "X = df['message']\n",
    "y = df['label']\n",
    "\n",
    "X_train, X_test, y_train, y_test = train_test_split(\n",
    "    X, y, test_size=0.2, random_state=42, stratify=y\n",
    ")\n"
   ]
  },
  {
   "cell_type": "code",
   "execution_count": 13,
   "id": "dbf63962",
   "metadata": {},
   "outputs": [],
   "source": [
    "vectorizer = TfidfVectorizer(stop_words='english')\n",
    "X_train_vec = vectorizer.fit_transform(X_train)\n",
    "X_test_vec = vectorizer.transform(X_test)"
   ]
  },
  {
   "cell_type": "code",
   "execution_count": 14,
   "id": "06b6e3ab",
   "metadata": {},
   "outputs": [
    {
     "name": "stdout",
     "output_type": "stream",
     "text": [
      "\n",
      "--- Bernoulli Naive Bayes ---\n",
      "Accuracy: 0.9695067264573991\n",
      "Precision: 0.9915254237288136\n",
      "Recall: 0.78\n",
      "F1-score: 0.8731343283582089\n",
      "Classification Report:\n",
      "               precision    recall  f1-score   support\n",
      "\n",
      "           0       0.97      1.00      0.98       965\n",
      "           1       0.99      0.78      0.87       150\n",
      "\n",
      "    accuracy                           0.97      1115\n",
      "   macro avg       0.98      0.89      0.93      1115\n",
      "weighted avg       0.97      0.97      0.97      1115\n",
      "\n"
     ]
    }
   ],
   "source": [
    "bernoulli_nb = BernoulliNB()\n",
    "bernoulli_nb.fit(X_train_vec, y_train)\n",
    "y_pred_bernoulli = bernoulli_nb.predict(X_test_vec)\n",
    "\n",
    "print(\"\\n--- Bernoulli Naive Bayes ---\")\n",
    "print(\"Accuracy:\", accuracy_score(y_test, y_pred_bernoulli))\n",
    "print(\"Precision:\", precision_score(y_test, y_pred_bernoulli))\n",
    "print(\"Recall:\", recall_score(y_test, y_pred_bernoulli))\n",
    "print(\"F1-score:\", f1_score(y_test, y_pred_bernoulli))\n",
    "print(\"Classification Report:\\n\", classification_report(y_test, y_pred_bernoulli))"
   ]
  },
  {
   "cell_type": "code",
   "execution_count": 15,
   "id": "94d27bd3",
   "metadata": {},
   "outputs": [
    {
     "name": "stdout",
     "output_type": "stream",
     "text": [
      "\n",
      "--- Multinomial Naive Bayes ---\n",
      "Accuracy: 0.9632286995515695\n",
      "Precision: 1.0\n",
      "Recall: 0.7266666666666667\n",
      "F1-score: 0.8416988416988417\n",
      "Classification Report:\n",
      "               precision    recall  f1-score   support\n",
      "\n",
      "           0       0.96      1.00      0.98       965\n",
      "           1       1.00      0.73      0.84       150\n",
      "\n",
      "    accuracy                           0.96      1115\n",
      "   macro avg       0.98      0.86      0.91      1115\n",
      "weighted avg       0.96      0.96      0.96      1115\n",
      "\n"
     ]
    }
   ],
   "source": [
    "multinomial_nb = MultinomialNB()\n",
    "multinomial_nb.fit(X_train_vec, y_train)\n",
    "y_pred_multinomial = multinomial_nb.predict(X_test_vec)\n",
    "\n",
    "print(\"\\n--- Multinomial Naive Bayes ---\")\n",
    "print(\"Accuracy:\", accuracy_score(y_test, y_pred_multinomial))\n",
    "print(\"Precision:\", precision_score(y_test, y_pred_multinomial))\n",
    "print(\"Recall:\", recall_score(y_test, y_pred_multinomial))\n",
    "print(\"F1-score:\", f1_score(y_test, y_pred_multinomial))\n",
    "print(\"Classification Report:\\n\", classification_report(y_test, y_pred_multinomial))"
   ]
  },
  {
   "cell_type": "code",
   "execution_count": 16,
   "id": "a93e5db5",
   "metadata": {},
   "outputs": [
    {
     "name": "stdout",
     "output_type": "stream",
     "text": [
      "\n",
      "Model Comparison:\n",
      "            Model  Accuracy  Precision    Recall  F1-score\n",
      "0    BernoulliNB  0.969507   0.991525  0.780000  0.873134\n",
      "1  MultinomialNB  0.963229   1.000000  0.726667  0.841699\n"
     ]
    }
   ],
   "source": [
    "results = pd.DataFrame({\n",
    "    \"Model\": [\"BernoulliNB\", \"MultinomialNB\"],\n",
    "    \"Accuracy\": [\n",
    "        accuracy_score(y_test, y_pred_bernoulli),\n",
    "        accuracy_score(y_test, y_pred_multinomial)\n",
    "    ],\n",
    "    \"Precision\": [\n",
    "        precision_score(y_test, y_pred_bernoulli),\n",
    "        precision_score(y_test, y_pred_multinomial)\n",
    "    ],\n",
    "    \"Recall\": [\n",
    "        recall_score(y_test, y_pred_bernoulli),\n",
    "        recall_score(y_test, y_pred_multinomial)\n",
    "    ],\n",
    "    \"F1-score\": [\n",
    "        f1_score(y_test, y_pred_bernoulli),\n",
    "        f1_score(y_test, y_pred_multinomial)\n",
    "    ]\n",
    "})\n",
    "\n",
    "print(\"\\nModel Comparison:\\n\", results)"
   ]
  },
  {
   "cell_type": "markdown",
   "id": "55b1941c",
   "metadata": {},
   "source": [
    "Bernoulli NB models the probability of a feature being present or not. So it’s well aligned with binary features.\n",
    "Multinomial NB models the probability of word frequencies, making it better when the number of occurrences matters."
   ]
  },
  {
   "cell_type": "markdown",
   "id": "bfa7fff2",
   "metadata": {},
   "source": []
  }
 ],
 "metadata": {
  "kernelspec": {
   "display_name": "Python 3",
   "language": "python",
   "name": "python3"
  },
  "language_info": {
   "codemirror_mode": {
    "name": "ipython",
    "version": 3
   },
   "file_extension": ".py",
   "mimetype": "text/x-python",
   "name": "python",
   "nbconvert_exporter": "python",
   "pygments_lexer": "ipython3",
   "version": "3.13.2"
  }
 },
 "nbformat": 4,
 "nbformat_minor": 5
}
