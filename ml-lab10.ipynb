{
 "cells": [
  {
   "cell_type": "code",
   "execution_count": 2,
   "id": "344b91d9",
   "metadata": {},
   "outputs": [],
   "source": [
    "import tensorflow as tf\n",
    "from tensorflow.keras.datasets import mnist\n",
    "from tensorflow.keras.utils import to_categorical\n",
    "import numpy as np"
   ]
  },
  {
   "cell_type": "code",
   "execution_count": 3,
   "id": "e3871127",
   "metadata": {},
   "outputs": [],
   "source": [
    "(x_train, y_train), (x_test, y_test) = mnist.load_data()\n",
    "\n",
    "# Normalize images (scale pixel values 0–1)\n",
    "x_train = x_train.astype('float32') / 255.0\n",
    "x_test = x_test.astype('float32') / 255.0\n",
    "\n",
    "# Flatten images (28x28 → 784)\n",
    "x_train = x_train.reshape((x_train.shape[0], -1))\n",
    "x_test = x_test.reshape((x_test.shape[0], -1))\n",
    "\n",
    "# One-hot encode labels\n",
    "y_train = to_categorical(y_train, 10)\n",
    "y_test = to_categorical(y_test, 10)"
   ]
  },
  {
   "cell_type": "code",
   "execution_count": 4,
   "id": "f27917fa",
   "metadata": {},
   "outputs": [
    {
     "name": "stderr",
     "output_type": "stream",
     "text": [
      "C:\\Users\\Jaya\\AppData\\Roaming\\Python\\Python312\\site-packages\\keras\\src\\layers\\core\\dense.py:92: UserWarning: Do not pass an `input_shape`/`input_dim` argument to a layer. When using Sequential models, prefer using an `Input(shape)` object as the first layer in the model instead.\n",
      "  super().__init__(activity_regularizer=activity_regularizer, **kwargs)\n"
     ]
    }
   ],
   "source": [
    "from tensorflow.keras.models import Sequential\n",
    "from tensorflow.keras.layers import Dense, Dropout\n",
    "\n",
    "model = Sequential([\n",
    "    Dense(256, activation='relu', input_shape=(784,)),\n",
    "    Dropout(0.2),\n",
    "    Dense(128, activation='relu'),\n",
    "    Dropout(0.2),\n",
    "    Dense(10, activation='softmax')  # Output layer\n",
    "])"
   ]
  },
  {
   "cell_type": "code",
   "execution_count": null,
   "id": "20f35ce2",
   "metadata": {},
   "outputs": [],
   "source": [
    "model.compile(\n",
    "    optimizer='adam',\n",
    "    loss='categorical_crossentropy',\n",
    "    metrics=['accuracy']\n",
    ")"
   ]
  },
  {
   "cell_type": "code",
   "execution_count": 6,
   "id": "1b9af08f",
   "metadata": {},
   "outputs": [
    {
     "name": "stdout",
     "output_type": "stream",
     "text": [
      "Epoch 1/20\n",
      "422/422 - 5s - 13ms/step - accuracy: 0.8936 - loss: 0.3632 - val_accuracy: 0.9632 - val_loss: 0.1216\n",
      "Epoch 2/20\n",
      "422/422 - 3s - 7ms/step - accuracy: 0.9557 - loss: 0.1472 - val_accuracy: 0.9743 - val_loss: 0.0889\n",
      "Epoch 3/20\n",
      "422/422 - 3s - 6ms/step - accuracy: 0.9682 - loss: 0.1050 - val_accuracy: 0.9785 - val_loss: 0.0751\n",
      "Epoch 4/20\n",
      "422/422 - 3s - 6ms/step - accuracy: 0.9741 - loss: 0.0820 - val_accuracy: 0.9802 - val_loss: 0.0677\n",
      "Epoch 5/20\n",
      "422/422 - 3s - 7ms/step - accuracy: 0.9783 - loss: 0.0697 - val_accuracy: 0.9813 - val_loss: 0.0615\n",
      "Epoch 6/20\n",
      "422/422 - 3s - 7ms/step - accuracy: 0.9824 - loss: 0.0565 - val_accuracy: 0.9798 - val_loss: 0.0714\n",
      "Epoch 7/20\n",
      "422/422 - 3s - 7ms/step - accuracy: 0.9844 - loss: 0.0503 - val_accuracy: 0.9790 - val_loss: 0.0669\n",
      "Epoch 8/20\n",
      "422/422 - 3s - 7ms/step - accuracy: 0.9844 - loss: 0.0473 - val_accuracy: 0.9807 - val_loss: 0.0683\n",
      "Epoch 9/20\n",
      "422/422 - 3s - 6ms/step - accuracy: 0.9868 - loss: 0.0408 - val_accuracy: 0.9825 - val_loss: 0.0662\n",
      "Epoch 10/20\n",
      "422/422 - 3s - 6ms/step - accuracy: 0.9878 - loss: 0.0382 - val_accuracy: 0.9828 - val_loss: 0.0642\n",
      "Epoch 11/20\n",
      "422/422 - 3s - 6ms/step - accuracy: 0.9883 - loss: 0.0348 - val_accuracy: 0.9840 - val_loss: 0.0596\n",
      "Epoch 12/20\n",
      "422/422 - 3s - 6ms/step - accuracy: 0.9896 - loss: 0.0305 - val_accuracy: 0.9845 - val_loss: 0.0625\n",
      "Epoch 13/20\n",
      "422/422 - 3s - 6ms/step - accuracy: 0.9904 - loss: 0.0286 - val_accuracy: 0.9837 - val_loss: 0.0650\n",
      "Epoch 14/20\n",
      "422/422 - 3s - 6ms/step - accuracy: 0.9904 - loss: 0.0284 - val_accuracy: 0.9838 - val_loss: 0.0676\n",
      "Epoch 15/20\n",
      "422/422 - 3s - 6ms/step - accuracy: 0.9910 - loss: 0.0264 - val_accuracy: 0.9848 - val_loss: 0.0650\n",
      "Epoch 16/20\n",
      "422/422 - 3s - 6ms/step - accuracy: 0.9924 - loss: 0.0228 - val_accuracy: 0.9837 - val_loss: 0.0730\n",
      "Epoch 17/20\n",
      "422/422 - 3s - 6ms/step - accuracy: 0.9924 - loss: 0.0227 - val_accuracy: 0.9830 - val_loss: 0.0730\n",
      "Epoch 18/20\n",
      "422/422 - 3s - 6ms/step - accuracy: 0.9923 - loss: 0.0234 - val_accuracy: 0.9848 - val_loss: 0.0680\n",
      "Epoch 19/20\n",
      "422/422 - 3s - 6ms/step - accuracy: 0.9928 - loss: 0.0209 - val_accuracy: 0.9847 - val_loss: 0.0704\n",
      "Epoch 20/20\n",
      "422/422 - 3s - 6ms/step - accuracy: 0.9933 - loss: 0.0200 - val_accuracy: 0.9838 - val_loss: 0.0762\n"
     ]
    }
   ],
   "source": [
    "history = model.fit(\n",
    "    x_train, y_train,\n",
    "    validation_split=0.1,\n",
    "    epochs=20,\n",
    "    batch_size=128,\n",
    "    verbose=2\n",
    ")\n"
   ]
  },
  {
   "cell_type": "code",
   "execution_count": 7,
   "id": "f9986cef",
   "metadata": {},
   "outputs": [
    {
     "name": "stdout",
     "output_type": "stream",
     "text": [
      "\u001b[1m313/313\u001b[0m \u001b[32m━━━━━━━━━━━━━━━━━━━━\u001b[0m\u001b[37m\u001b[0m \u001b[1m1s\u001b[0m 2ms/step\n",
      "Accuracy: 0.9806\n",
      "              precision    recall  f1-score   support\n",
      "\n",
      "           0       0.98      0.99      0.99       980\n",
      "           1       0.99      0.99      0.99      1135\n",
      "           2       0.98      0.98      0.98      1032\n",
      "           3       0.98      0.98      0.98      1010\n",
      "           4       0.98      0.99      0.98       982\n",
      "           5       0.98      0.97      0.98       892\n",
      "           6       0.98      0.98      0.98       958\n",
      "           7       0.98      0.98      0.98      1028\n",
      "           8       0.98      0.97      0.97       974\n",
      "           9       0.98      0.97      0.97      1009\n",
      "\n",
      "    accuracy                           0.98     10000\n",
      "   macro avg       0.98      0.98      0.98     10000\n",
      "weighted avg       0.98      0.98      0.98     10000\n",
      "\n"
     ]
    }
   ],
   "source": [
    "from sklearn.metrics import classification_report, accuracy_score\n",
    "\n",
    "# Predictions\n",
    "y_pred = model.predict(x_test)\n",
    "y_pred_classes = np.argmax(y_pred, axis=1)\n",
    "y_true = np.argmax(y_test, axis=1)\n",
    "\n",
    "# Accuracy, precision, recall\n",
    "print(\"Accuracy:\", accuracy_score(y_true, y_pred_classes))\n",
    "print(classification_report(y_true, y_pred_classes))"
   ]
  },
  {
   "cell_type": "code",
   "execution_count": 8,
   "id": "3cbe3c15",
   "metadata": {},
   "outputs": [
    {
     "data": {
      "image/png": "[encoded data removed]",
      "text/plain": [
       "<Figure size 640x480 with 1 Axes>"
      ]
     },
     "metadata": {},
     "output_type": "display_data"
    }
   ],
   "source": [
    "import matplotlib.pyplot as plt\n",
    "\n",
    "plt.plot(history.history['accuracy'], label='Train Acc')\n",
    "plt.plot(history.history['val_accuracy'], label='Val Acc')\n",
    "plt.legend()\n",
    "plt.title('Training vs Validation Accuracy')\n",
    "plt.show()"
   ]
  },
  {
   "cell_type": "code",
   "execution_count": null,
   "id": "338ae1db",
   "metadata": {},
   "outputs": [],
   "source": []
  }
 ],
 "metadata": {
  "kernelspec": {
   "display_name": "Python 3",
   "language": "python",
   "name": "python3"
  },
  "language_info": {
   "codemirror_mode": {
    "name": "ipython",
    "version": 3
   },
   "file_extension": ".py",
   "mimetype": "text/x-python",
   "name": "python",
   "nbconvert_exporter": "python",
   "pygments_lexer": "ipython3",
   "version": "3.12.10"
  }
 },
 "nbformat": 4,
 "nbformat_minor": 5
}
